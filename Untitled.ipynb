{
 "cells": [
  {
   "cell_type": "code",
   "execution_count": 3,
   "id": "1be4e879-5985-4cdb-bdcf-cdbec70e0dc5",
   "metadata": {},
   "outputs": [],
   "source": [
    "# ok"
   ]
  },
  {
   "cell_type": "code",
   "execution_count": null,
   "id": "448dc7f9-a85b-42f6-baf5-502def9b6424",
   "metadata": {},
   "outputs": [],
   "source": []
  },
  {
   "cell_type": "code",
   "execution_count": 5,
   "id": "a15883b5-4b8a-4e67-ad82-108bf2d6c4f5",
   "metadata": {},
   "outputs": [
    {
     "name": "stdout",
     "output_type": "stream",
     "text": [
      "0.6931545117404312\n"
     ]
    }
   ],
   "source": [
    "import math\n",
    "\n",
    "# we want to find ln(x) = y\n",
    "# ln(x) = y <=> e^(y) = x\n",
    "\n",
    "# We perform multiplicative argument reduction,\n",
    "# Let n = 2^(k) be a big power of 2. Then r = y/n is small . y = rn so :\n",
    "# e^(y) = e^(rn) Since n is a big power of 2, we write :\n",
    "# e^(y) = (((((e^r)^2)^2)^2)...^2) \n",
    "\n",
    "# Now, let A = (e^r)-1, then e^r = A + 1 (since r is close to zero, e^r is close to 1, so A is small).\n",
    "# e^(y) = (((((A + 1)^2)^2)^2)...^2) \n",
    "# (A + 1)^2 = 1 + 2A + A^2\n",
    "# (A + 1)^4 = 1 + 4A + 6A^2 + 4A^3 +A^4\n",
    "# in general, for n a large power of 2:\n",
    "# (A + 1)^n = 1 + nA + A^2(...) Since A is small, the A^2(...) is negligible so \n",
    "\n",
    "# e^(y) ≈ 1 + nA ≈ x\n",
    "\n",
    "# e^(y) ≈ 1 + n((e^(y/n))-1) ≈ x\n",
    "\n",
    "\n",
    "\n",
    "# we want ln(x) = y , so we go the other way :\n",
    "\n",
    "# ln(x) ≈ (x - 1)/n + 1\n",
    "\n",
    "# so y = \n",
    "\n",
    "# e^(y)\n",
    "\n",
    "def naivelog(x):\n",
    "  n=15\n",
    "  y = x\n",
    "  for i in range(n):\n",
    "    y = math.sqrt(y)\n",
    "  l = y-1\n",
    "  for i in range(n):\n",
    "    l = l*2\n",
    "  return l\n",
    "\n",
    "def mylog(x):\n",
    "  n=15\n",
    "  z = x-1\n",
    "  for i in range(n):\n",
    "    z = z/(1+math.sqrt(1+z))\n",
    "  l = z\n",
    "  for i in range(n):\n",
    "    l = l*2\n",
    "  return l\n",
    "\n",
    "\n",
    "print(naivelog(2))\n"
   ]
  },
  {
   "cell_type": "code",
   "execution_count": null,
   "id": "b952d028-10f0-452e-b1f3-8139c32d9b36",
   "metadata": {},
   "outputs": [],
   "source": []
  },
  {
   "cell_type": "code",
   "execution_count": null,
   "id": "434f7177-0fa3-40ff-898c-fbc7373ec992",
   "metadata": {},
   "outputs": [],
   "source": []
  },
  {
   "cell_type": "code",
   "execution_count": null,
   "id": "81dd8f85-f02c-4e47-b97b-b52e02f899bc",
   "metadata": {},
   "outputs": [],
   "source": []
  },
  {
   "cell_type": "code",
   "execution_count": null,
   "id": "dc887543-02c4-4988-bf7c-a72a4355cfcf",
   "metadata": {},
   "outputs": [],
   "source": []
  }
 ],
 "metadata": {
  "kernelspec": {
   "display_name": "Python 3 (ipykernel)",
   "language": "python",
   "name": "python3"
  },
  "language_info": {
   "codemirror_mode": {
    "name": "ipython",
    "version": 3
   },
   "file_extension": ".py",
   "mimetype": "text/x-python",
   "name": "python",
   "nbconvert_exporter": "python",
   "pygments_lexer": "ipython3",
   "version": "3.11.5"
  }
 },
 "nbformat": 4,
 "nbformat_minor": 5
}
